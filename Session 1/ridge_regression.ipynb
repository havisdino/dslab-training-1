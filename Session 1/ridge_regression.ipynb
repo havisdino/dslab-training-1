{
 "cells": [
  {
   "cell_type": "code",
   "execution_count": 1,
   "id": "f4d35576",
   "metadata": {},
   "outputs": [],
   "source": [
    "import numpy as np"
   ]
  },
  {
   "cell_type": "code",
   "execution_count": 2,
   "id": "163cd9eb",
   "metadata": {},
   "outputs": [],
   "source": [
    "def normalize_and_add_ones(x):\n",
    "    normalized = []\n",
    "    restoration = {'max': x[:, -1].max(), 'min': x[:, -1].min()}\n",
    "    for i in range(x.shape[1]):\n",
    "        col = x[:, i]\n",
    "        col = (col - col.min())/(col.max() - col.min())\n",
    "        normalized.append(col)\n",
    "    normalized = np.stack(normalized, axis=-1)\n",
    "    one_col = np.ones([normalized.shape[0], 1])\n",
    "    return (np.concatenate([one_col, normalized], axis=-1),\n",
    "            restoration)\n",
    "\n",
    "def load_dataset(path, drop_index=False, drop_header=False):\n",
    "    with open(path) as file:\n",
    "        data = file.readlines()\n",
    "    for i in range(len(data)):\n",
    "        data[i] = [float(i) for i in data[i].split()]\n",
    "    data_tensor = np.array(data)\n",
    "    if drop_index:\n",
    "        data_tensor = data_tensor[:, 1:]\n",
    "    if drop_header:\n",
    "        data_tensor = data_tensor[1:, :]\n",
    "    return data_tensor"
   ]
  },
  {
   "cell_type": "code",
   "execution_count": 25,
   "id": "4d3ba75b",
   "metadata": {},
   "outputs": [],
   "source": [
    "class RidgeRegression:\n",
    "    def __init__(self):\n",
    "        self.weight = None\n",
    "        self.best_LAMBDA = 0.\n",
    "\n",
    "    def predict(self, x):\n",
    "        return np.dot(x, self.weight)\n",
    "\n",
    "    def train_step(self, x, y):\n",
    "        assert len(x.shape) == 2 and x.shape[0] == y.shape[0]\n",
    "        self.weight = np.linalg.inv(\n",
    "            x.T.dot(x) + self.best_LAMBDA * np.identity(x.shape[1])\n",
    "        ).dot(x.T).dot(y)\n",
    "\n",
    "    def compute_RSS(self, y_true, y_pred):\n",
    "        return np.mean((y_true - y_pred)**2)\n",
    "\n",
    "    def get_the_best_lambda(self, x, y):\n",
    "        def cross_validation(num_folds):\n",
    "            row_ids = np.arange(x.shape[0])\n",
    "            valid_ids = np.split(\n",
    "                row_ids[:len(row_ids) - len(row_ids) % num_folds], num_folds)\n",
    "            valid_ids[-1] = np.append(valid_ids[-1],\n",
    "                                      row_ids[len(row_ids) - len(row_ids)%num_folds:])\n",
    "            train_ids = [[k for k in row_ids if k not in valid_ids[i]]\n",
    "                         for i in range(num_folds)]\n",
    "            aver_RSS = 0\n",
    "            for i in range(num_folds):\n",
    "                valid_part = {'X': x[valid_ids[i]], 'Y': y[valid_ids[i]]}\n",
    "                train_part = {'X': x[train_ids[i]], 'Y': y[train_ids[i]]}\n",
    "                self.train_step(train_part['X'], train_part['Y'])\n",
    "                y_pred = self.predict(valid_part['X'])\n",
    "                aver_RSS += self.compute_RSS(valid_part['Y'], y_pred)\n",
    "            return aver_RSS / num_folds\n",
    "\n",
    "        def range_scan(best_LAMBDA, minimum_RSS, LAMBDA_values):\n",
    "            for current_LAMBDA in LAMBDA_values:\n",
    "                aver_RSS = cross_validation(num_folds=5) \n",
    "                if aver_RSS < minimum_RSS:\n",
    "                    best_LAMBDA = current_LAMBDA\n",
    "                    minimum_RSS = aver_RSS\n",
    "            return best_LAMBDA, minimum_RSS\n",
    "\n",
    "        self.best_LAMBDA, minimum_RSS = range_scan(0, 1e8, range(50))\n",
    "        LAMBDA_values = [k * 1./1000 for k in range(max(0, (self.best_LAMBDA - 1)*1000),\n",
    "                                                    (self.best_LAMBDA + 1)*1000, 1)]\n",
    "        self.best_LAMBDA, minimum_RSS = range_scan(self.best_LAMBDA,\n",
    "                                                   minimum_RSS,\n",
    "                                                   LAMBDA_values)\n",
    "\n",
    "    def fit(self, x, y):\n",
    "        self.get_the_best_lambda(x, y)\n",
    "        self.train_step(x, y)"
   ]
  },
  {
   "cell_type": "code",
   "execution_count": 26,
   "id": "0d639b01",
   "metadata": {},
   "outputs": [],
   "source": [
    "# load and preprocess the dataset\n",
    "ds = load_dataset('dataset/deathrate.txt', drop_index=True)\n",
    "ds, res = normalize_and_add_ones(ds)\n",
    "x, y = ds[:, :-1], ds[:, -1]\n",
    "\n",
    "# split the dataset\n",
    "x_train, y_train = x[:50], y[:50]\n",
    "x_test, y_test = x[50:], y[50:]"
   ]
  },
  {
   "cell_type": "code",
   "execution_count": 27,
   "id": "8ecd6808",
   "metadata": {},
   "outputs": [
    {
     "name": "stdout",
     "output_type": "stream",
     "text": [
      "best lambda: 0\n",
      "0.01524234785948798\n"
     ]
    }
   ],
   "source": [
    "# create and train the model\n",
    "model = RidgeRegression()\n",
    "model.fit(x_train, y_train)\n",
    "\n",
    "# show the best lambda and the loss\n",
    "print('best lambda:', model.best_LAMBDA)\n",
    "Y_predicted = model.predict(x_test)\n",
    "print(model.compute_RSS(y_test, Y_predicted))"
   ]
  }
 ],
 "metadata": {
  "kernelspec": {
   "display_name": "base",
   "language": "python",
   "name": "base"
  },
  "language_info": {
   "codemirror_mode": {
    "name": "ipython",
    "version": 3
   },
   "file_extension": ".py",
   "mimetype": "text/x-python",
   "name": "python",
   "nbconvert_exporter": "python",
   "pygments_lexer": "ipython3",
   "version": "3.9.10"
  }
 },
 "nbformat": 4,
 "nbformat_minor": 5
}
